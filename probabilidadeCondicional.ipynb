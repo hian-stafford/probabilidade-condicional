{
 "cells": [
  {
   "cell_type": "markdown",
   "metadata": {},
   "source": [
    "# Probabilidade Condicional"
   ]
  },
  {
   "cell_type": "markdown",
   "metadata": {},
   "source": [
    "Abaixo está um código para criar alguns dados falsos sobre a quantidade de coisas que as pessoas compram de acordo com sua faixa etária.\n",
    "\n",
    "Ele gera 100.000 \"pessoas\" aleatórias e as atribui aleatoriamente como tendo 20, 30, 40, 50, 60 ou 70 anos.\n",
    "\n",
    "Digamos que essas pessoaqs sejam clientes de algum site de compras (Ex; Amazon, Aliexpress, Shopee etc)\n",
    "\n",
    "Veremos a probabilidade de alguém comprar algo de acordo com a idade. Se for mais velho, maior a probabilidade de comprar algo,  e quanto menor a faixa estária, menor a probabilidade de comprar algo."
   ]
  },
  {
   "cell_type": "code",
   "execution_count": 2,
   "metadata": {},
   "outputs": [],
   "source": [
    "# Importa a biblioteca para geração de números aleatórios do numpy\n",
    "from numpy import random\n",
    "\n",
    "# Inicializa a semente do gerador de números aleatórios para garantir resultados consistentes\n",
    "random.seed(0) \n",
    "\n",
    "# Dicionário para armazenar o total de pessoas em cada faixa etária\n",
    "totais = {20: 0, 30: 0, 40: 0, 50: 0, 60: 0, 70: 0}\n",
    "\n",
    "# Dicionário para armazenar a quantidade de compras feitas por pessoas em cada faixa etária\n",
    "compras = {20: 0, 30: 0, 40: 0, 50: 0, 60: 0, 70: 0}\n",
    "\n",
    "# Inicializa a variável para armazenar o total de compras\n",
    "totalCompras = 0\n",
    "\n",
    "# Simula o comportamento de 100.000 pessoas visitando um site\n",
    "for _ in range(100000):\n",
    "    # Escolhe aleatoriamente a idade de uma pessoa entre 20, 30, 40, 50, 60 ou 70 anos\n",
    "    idade = random.choice([20, 30, 40, 50, 60, 70])\n",
    "    \n",
    "    # Calcula a probabilidade de uma pessoa comprar algo com base na sua idade\n",
    "    comprasProbab = float(idade) / 100.0\n",
    "    \n",
    "    # Atualiza o total de pessoas em cada faixa etária\n",
    "    totais[idade] += 1\n",
    "    \n",
    "    # Verifica se a pessoa realiza uma compra com base na probabilidade calculada\n",
    "    if random.random() < comprasProbab:\n",
    "        totalCompras += 1\n",
    "        compras[idade] += 1\n"
   ]
  },
  {
   "cell_type": "code",
   "execution_count": 3,
   "metadata": {},
   "outputs": [
    {
     "data": {
      "text/plain": [
       "{20: 16576, 30: 16619, 40: 16632, 50: 16805, 60: 16664, 70: 16704}"
      ]
     },
     "execution_count": 3,
     "metadata": {},
     "output_type": "execute_result"
    }
   ],
   "source": [
    "totais"
   ]
  },
  {
   "cell_type": "code",
   "execution_count": 4,
   "metadata": {},
   "outputs": [
    {
     "data": {
      "text/plain": [
       "{20: 3392, 30: 4974, 40: 6670, 50: 8319, 60: 9944, 70: 11713}"
      ]
     },
     "execution_count": 4,
     "metadata": {},
     "output_type": "execute_result"
    }
   ],
   "source": [
    "compras"
   ]
  },
  {
   "cell_type": "code",
   "execution_count": 5,
   "metadata": {},
   "outputs": [
    {
     "data": {
      "text/plain": [
       "45012"
      ]
     },
     "execution_count": 5,
     "metadata": {},
     "output_type": "execute_result"
    }
   ],
   "source": [
    "totalCompras"
   ]
  },
  {
   "cell_type": "markdown",
   "metadata": {},
   "source": [
    "Calculando a probabilidade de P(E|F), onde \"E\" são as compras e \"F\" é a faixa etária da pessoa (pessoa de 30 anos):"
   ]
  },
  {
   "cell_type": "code",
   "execution_count": 6,
   "metadata": {},
   "outputs": [
    {
     "name": "stdout",
     "output_type": "stream",
     "text": [
      "P (compras) | 30 anos : 0.29929598652145134\n"
     ]
    }
   ],
   "source": [
    "PEF = float(compras[30] / float(totais[30]))\n",
    "print(f'P (compras) | 30 anos : {PEF}')"
   ]
  },
  {
   "cell_type": "markdown",
   "metadata": {},
   "source": [
    "Calculando P(F) a probabilidade de serem pessoas de 30 anos:"
   ]
  },
  {
   "cell_type": "code",
   "execution_count": 7,
   "metadata": {},
   "outputs": [
    {
     "name": "stdout",
     "output_type": "stream",
     "text": [
      "P(30 anos): 0.16619\n"
     ]
    }
   ],
   "source": [
    "PF = float(totais[30]/100000)\n",
    "print(f'P(30 anos): {PF}')"
   ]
  },
  {
   "cell_type": "markdown",
   "metadata": {},
   "source": [
    "Calculando P(E) a probabilidade do total de compras independente da idade:"
   ]
  },
  {
   "cell_type": "code",
   "execution_count": 8,
   "metadata": {},
   "outputs": [
    {
     "name": "stdout",
     "output_type": "stream",
     "text": [
      "P(compras): 0.45012\n"
     ]
    }
   ],
   "source": [
    "PE = float(totalCompras/100000)\n",
    "print(f'P(compras): {PE}')"
   ]
  },
  {
   "cell_type": "markdown",
   "metadata": {},
   "source": [
    "Acima foi calculado probabilidades onde as compras P(F) tem dependência com a idade P(E)"
   ]
  },
  {
   "cell_type": "markdown",
   "metadata": {},
   "source": [
    "Calculando o P(E, F). Diferentemente do P(E|F), o P(E, F) é a probabilidade de estar na casa dos 30 anos e comprar alguma coisa sem que haja alguma dependencia, Olhando pra probabilidade geral de estar com 30 anos e comprar algo, não restringindo apenas a faixa etária de 30 anos."
   ]
  },
  {
   "cell_type": "code",
   "execution_count": 9,
   "metadata": {},
   "outputs": [
    {
     "name": "stdout",
     "output_type": "stream",
     "text": [
      "P(30, compras) 0.04974\n"
     ]
    }
   ],
   "source": [
    "print(f'P(30, compras) {float(compras[30])/100000.0}')"
   ]
  },
  {
   "cell_type": "markdown",
   "metadata": {},
   "source": [
    "Probabilidade geral de comprar algo e estar na casa dos 30 anos, criando o produto de P(E) e P(F)."
   ]
  },
  {
   "cell_type": "code",
   "execution_count": 10,
   "metadata": {},
   "outputs": [
    {
     "name": "stdout",
     "output_type": "stream",
     "text": [
      "P(30)*P(compras): 0.07480544280000001\n"
     ]
    }
   ],
   "source": [
    "print(f'P(30)*P(compras): {PE*PF}')"
   ]
  },
  {
   "cell_type": "markdown",
   "metadata": {},
   "source": [
    "### Calculando a probabilidade condicional, removendo a dependência entre a idade e a probabilidade de compra:"
   ]
  },
  {
   "cell_type": "code",
   "execution_count": 11,
   "metadata": {},
   "outputs": [],
   "source": [
    "# Importa a biblioteca para geração de números aleatórios do numpy\n",
    "from numpy import random\n",
    "\n",
    "# Inicializa a semente do gerador de números aleatórios para garantir resultados consistentes\n",
    "random.seed(0) \n",
    "\n",
    "# Dicionário para armazenar o total de pessoas em cada faixa etária\n",
    "totais = {20: 0, 30: 0, 40: 0, 50: 0, 60: 0, 70: 0}\n",
    "\n",
    "# Dicionário para armazenar a quantidade de compras feitas por pessoas em cada faixa etária\n",
    "compras = {20: 0, 30: 0, 40: 0, 50: 0, 60: 0, 70: 0}\n",
    "\n",
    "# Inicializa a variável para armazenar o total de compras\n",
    "totalCompras = 0\n",
    "\n",
    "# Simula o comportamento de 100.000 pessoas visitando um site\n",
    "for _ in range(100000):\n",
    "    # Escolhe aleatoriamente a idade de uma pessoa entre 20, 30, 40, 50, 60 ou 70 anos\n",
    "    idade = random.choice([20, 30, 40, 50, 60, 70])\n",
    "    \n",
    "    # Alteração para não haver relação entre a idade e a probabilidade de comprar algo\n",
    "    comprasProbab = 0.4\n",
    "    \n",
    "    # Atualiza o total de pessoas em cada faixa etária\n",
    "    totais[idade] += 1\n",
    "    \n",
    "    # Verifica se a pessoa realiza uma compra com base na probabilidade calculada\n",
    "    if random.random() < comprasProbab:\n",
    "        totalCompras += 1\n",
    "        compras[idade] += 1\n"
   ]
  },
  {
   "cell_type": "code",
   "execution_count": 12,
   "metadata": {},
   "outputs": [
    {
     "name": "stdout",
     "output_type": "stream",
     "text": [
      "P (compras) | 30 anos : 0.3987604549010169\n"
     ]
    }
   ],
   "source": [
    "PEF = float(compras[30] / float(totais[30]))\n",
    "print(f'P (compras) | 30 anos : {PEF}')"
   ]
  },
  {
   "cell_type": "code",
   "execution_count": 13,
   "metadata": {},
   "outputs": [
    {
     "name": "stdout",
     "output_type": "stream",
     "text": [
      "P(compras): 0.4003\n"
     ]
    }
   ],
   "source": [
    "PE = float(totalCompras/100000)\n",
    "print(f'P(compras): {PE}')"
   ]
  },
  {
   "cell_type": "code",
   "execution_count": null,
   "metadata": {},
   "outputs": [],
   "source": []
  }
 ],
 "metadata": {
  "kernelspec": {
   "display_name": "Python 3",
   "language": "python",
   "name": "python3"
  },
  "language_info": {
   "codemirror_mode": {
    "name": "ipython",
    "version": 3
   },
   "file_extension": ".py",
   "mimetype": "text/x-python",
   "name": "python",
   "nbconvert_exporter": "python",
   "pygments_lexer": "ipython3",
   "version": "3.10.9"
  }
 },
 "nbformat": 4,
 "nbformat_minor": 2
}
